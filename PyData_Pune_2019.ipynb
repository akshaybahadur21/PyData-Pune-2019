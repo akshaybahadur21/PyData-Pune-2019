{
  "nbformat": 4,
  "nbformat_minor": 0,
  "metadata": {
    "colab": {
      "name": "PyData Pune 2019.ipynb",
      "version": "0.3.2",
      "provenance": [],
      "collapsed_sections": [],
      "toc_visible": true
    },
    "kernelspec": {
      "name": "python3",
      "display_name": "Python 3"
    },
    "accelerator": "GPU"
  },
  "cells": [
    {
      "cell_type": "markdown",
      "metadata": {
        "id": "03wfFUTLTPUq",
        "colab_type": "text"
      },
      "source": [
        "# Haptic Learning : inferencing human features using deep networks"
      ]
    },
    {
      "cell_type": "markdown",
      "metadata": {
        "id": "tqWekWUnU28p",
        "colab_type": "text"
      },
      "source": [
        "This python notebook is for explanation of the core concepts used and the models developed for this webinar.\n",
        "\n",
        "## Acknowledgement\n",
        "\n",
        "I would like to extend my gratitude towards PyData, Pune team for giving me this opportunity to showcase my findings \n",
        "\n",
        "## Akshay Bahadur\n",
        "\n",
        "    * Software engineer, Symantec.\n",
        "    * ML Researcher\n",
        "    * Software Innovator, Intel\n",
        "    \n",
        "### Contact\n",
        "\n",
        "   * [Portfolio](https://www.akshaybahadur.com/)\n",
        "   * [LinkedIN](https://www.linkedin.com/in/akshaybahadur21/)\n",
        "   * [GitHub](https://github.com/akshaybahadur21)\n",
        "  \n",
        "\n"
      ]
    },
    {
      "cell_type": "markdown",
      "metadata": {
        "id": "OgKXg6pdYUBw",
        "colab_type": "text"
      },
      "source": [
        "## Tania's story"
      ]
    },
    {
      "cell_type": "code",
      "metadata": {
        "id": "mY-SZTuJSfh-",
        "colab_type": "code",
        "outputId": "7e10d19b-4781-449c-d7c5-b9bcff661350",
        "colab": {
          "base_uri": "https://localhost:8080/",
          "height": 426
        }
      },
      "source": [
        "\n",
        "%%HTML\n",
        "<iframe width=\"700\" height=\"400\" src=\"https://www.youtube.com/embed/Oc_QMQ4QHcw\"></iframe>"
      ],
      "execution_count": 0,
      "outputs": [
        {
          "output_type": "display_data",
          "data": {
            "text/html": [
              "<iframe width=\"700\" height=\"400\" src=\"https://www.youtube.com/embed/Oc_QMQ4QHcw\"></iframe>"
            ],
            "text/plain": [
              "<IPython.core.display.HTML object>"
            ]
          },
          "metadata": {
            "tags": []
          }
        }
      ]
    },
    {
      "cell_type": "markdown",
      "metadata": {
        "id": "OCz9Nd12ZAhG",
        "colab_type": "text"
      },
      "source": [
        "## MNIST Digit Recognition"
      ]
    },
    {
      "cell_type": "markdown",
      "metadata": {
        "id": "rIpt43xjCmxx",
        "colab_type": "text"
      },
      "source": [
        "## Showing content using Webcam"
      ]
    },
    {
      "cell_type": "code",
      "metadata": {
        "id": "9d5xMvDcY0f2",
        "colab_type": "code",
        "outputId": "708401db-8b1a-433e-b3ac-bbfd582cbdf5",
        "colab": {
          "base_uri": "https://localhost:8080/",
          "height": 34
        }
      },
      "source": [
        "\n",
        "\n",
        "from keras import Sequential\n",
        "from keras.callbacks import ModelCheckpoint\n",
        "from keras.datasets import mnist\n",
        "import numpy as np\n",
        "import matplotlib.pyplot as plt\n",
        "from keras.layers import Flatten, Dense, Dropout\n",
        "from keras.utils import np_utils, print_summary\n",
        "from keras.models import load_model\n",
        "import warnings\n",
        "warnings.filterwarnings('ignore')"
      ],
      "execution_count": 0,
      "outputs": [
        {
          "output_type": "stream",
          "text": [
            "Using TensorFlow backend.\n"
          ],
          "name": "stderr"
        }
      ]
    },
    {
      "cell_type": "code",
      "metadata": {
        "id": "U_POvOyzZHr8",
        "colab_type": "code",
        "outputId": "ae7ff5ad-ac5a-4c75-feb9-0232266f0126",
        "colab": {
          "base_uri": "https://localhost:8080/",
          "height": 52
        }
      },
      "source": [
        "(x_train, y_train), (x_test, y_test) = mnist.load_data()"
      ],
      "execution_count": 0,
      "outputs": [
        {
          "output_type": "stream",
          "text": [
            "Downloading data from https://s3.amazonaws.com/img-datasets/mnist.npz\n",
            "11493376/11490434 [==============================] - 0s 0us/step\n"
          ],
          "name": "stdout"
        }
      ]
    },
    {
      "cell_type": "code",
      "metadata": {
        "id": "CfT0D9NBZOZI",
        "colab_type": "code",
        "colab": {}
      },
      "source": [
        "def showData(x, label):\n",
        "    pixels = np.array(x, dtype='uint8')\n",
        "\n",
        "    pixels = pixels.reshape((28, 28))\n",
        "\n",
        "    plt.title('Label is {label}'.format(label=label))\n",
        "    plt.imshow(pixels, cmap='gray')\n",
        "    plt.show()"
      ],
      "execution_count": 0,
      "outputs": []
    },
    {
      "cell_type": "code",
      "metadata": {
        "id": "L24QTXK2ZQq1",
        "colab_type": "code",
        "outputId": "b1817e22-bc81-4e12-98c3-a7cf4c554154",
        "colab": {
          "base_uri": "https://localhost:8080/",
          "height": 281
        }
      },
      "source": [
        "showData(x_train[250], y_train[250])"
      ],
      "execution_count": 0,
      "outputs": [
        {
          "output_type": "display_data",
          "data": {
            "image/png": "[encoded data removed]",
            "text/plain": [
              "<Figure size 432x288 with 1 Axes>"
            ]
          },
          "metadata": {
            "tags": []
          }
        }
      ]
    },
    {
      "cell_type": "code",
      "metadata": {
        "id": "WaSnNsLKZUXv",
        "colab_type": "code",
        "outputId": "ec03a6b9-97e1-4a45-ffe7-7a76c7eab0a9",
        "colab": {
          "base_uri": "https://localhost:8080/",
          "height": 281
        }
      },
      "source": [
        "showData(x_train[24], y_train[24])"
      ],
      "execution_count": 0,
      "outputs": [
        {
          "output_type": "display_data",
          "data": {
            "image/png": "[encoded data removed]",
            "text/plain": [
              "<Figure size 432x288 with 1 Axes>"
            ]
          },
          "metadata": {
            "tags": []
          }
        }
      ]
    },
    {
      "cell_type": "code",
      "metadata": {
        "id": "xyap0mSKZWmN",
        "colab_type": "code",
        "colab": {}
      },
      "source": [
        "x_train_norm= x_train / 255.\n",
        "x_test_norm=x_test / 255."
      ],
      "execution_count": 0,
      "outputs": []
    },
    {
      "cell_type": "code",
      "metadata": {
        "id": "ww8EFCNCaA0z",
        "colab_type": "code",
        "colab": {}
      },
      "source": [
        "def preprocess_labels(y):\n",
        "    labels = np_utils.to_categorical(y)\n",
        "    return labels"
      ],
      "execution_count": 0,
      "outputs": []
    },
    {
      "cell_type": "code",
      "metadata": {
        "id": "y6iPzk3gaGS8",
        "colab_type": "code",
        "colab": {}
      },
      "source": [
        "y_train = preprocess_labels(y_train)\n",
        "y_test = preprocess_labels(y_test)"
      ],
      "execution_count": 0,
      "outputs": []
    },
    {
      "cell_type": "code",
      "metadata": {
        "id": "1oITHCe3aJx2",
        "colab_type": "code",
        "outputId": "b4be55a6-412f-40d9-e1fa-3ee90c848699",
        "colab": {
          "base_uri": "https://localhost:8080/",
          "height": 86
        }
      },
      "source": [
        "x_train_norm = x_train_norm.reshape(x_train_norm.shape[0], 28, 28, 1)\n",
        "x_test_norm = x_test_norm.reshape(x_test_norm.shape[0], 28, 28, 1)\n",
        "print(\"number of training examples = \" + str(x_train.shape[0]))\n",
        "print(\"number of test examples = \" + str(x_test.shape[0]))\n",
        "print(\"X_train shape: \" + str(x_train.shape))\n",
        "print(\"Y_train shape: \" + str(y_train.shape))"
      ],
      "execution_count": 0,
      "outputs": [
        {
          "output_type": "stream",
          "text": [
            "number of training examples = 60000\n",
            "number of test examples = 10000\n",
            "X_train shape: (60000, 28, 28)\n",
            "Y_train shape: (60000, 10)\n"
          ],
          "name": "stdout"
        }
      ]
    },
    {
      "cell_type": "code",
      "metadata": {
        "id": "Bof0jyPFaTHr",
        "colab_type": "code",
        "outputId": "a77e523e-080e-4689-8b27-866f692599ff",
        "colab": {
          "base_uri": "https://localhost:8080/",
          "height": 384
        }
      },
      "source": [
        "def keras_model(image_x, image_y):\n",
        "    num_of_classes = 10\n",
        "    model = Sequential()\n",
        "    model.add(Flatten(input_shape=(image_x, image_y, 1)))\n",
        "    model.add(Dense(512, activation='relu'))\n",
        "    model.add(Dropout(0.6))\n",
        "    model.add(Dense(128, activation='relu'))\n",
        "    model.add(Dropout(0.6))\n",
        "    model.add(Dense(num_of_classes, activation='softmax'))\n",
        "\n",
        "    model.compile(loss='categorical_crossentropy', optimizer='adam', metrics=['accuracy'])\n",
        "    filepath = \"pyData.h5\"\n",
        "    checkpoint = ModelCheckpoint(filepath, monitor='val_acc', verbose=1, save_best_only=True, mode='max')\n",
        "    callbacks_list = [checkpoint]\n",
        "\n",
        "    return model, callbacks_list\n",
        "\n",
        "model, callbacks_list = keras_model(28, 28)\n",
        "print_summary(model)"
      ],
      "execution_count": 0,
      "outputs": [
        {
          "output_type": "stream",
          "text": [
            "W0629 11:49:09.064770 139659769898880 nn_ops.py:4224] Large dropout rate: 0.6 (>0.5). In TensorFlow 2.x, dropout() uses dropout rate instead of keep_prob. Please ensure that this is intended.\n"
          ],
          "name": "stderr"
        },
        {
          "output_type": "stream",
          "text": [
            "_________________________________________________________________\n",
            "Layer (type)                 Output Shape              Param #   \n",
            "=================================================================\n",
            "flatten_3 (Flatten)          (None, 784)               0         \n",
            "_________________________________________________________________\n",
            "dense_7 (Dense)              (None, 512)               401920    \n",
            "_________________________________________________________________\n",
            "dropout_5 (Dropout)          (None, 512)               0         \n",
            "_________________________________________________________________\n",
            "dense_8 (Dense)              (None, 128)               65664     \n",
            "_________________________________________________________________\n",
            "dropout_6 (Dropout)          (None, 128)               0         \n",
            "_________________________________________________________________\n",
            "dense_9 (Dense)              (None, 10)                1290      \n",
            "=================================================================\n",
            "Total params: 468,874\n",
            "Trainable params: 468,874\n",
            "Non-trainable params: 0\n",
            "_________________________________________________________________\n"
          ],
          "name": "stdout"
        }
      ]
    },
    {
      "cell_type": "code",
      "metadata": {
        "id": "Lh_YmtYvaevU",
        "colab_type": "code",
        "outputId": "70a58a78-42b2-4d6c-e587-8304806475c6",
        "colab": {
          "base_uri": "https://localhost:8080/",
          "height": 191
        }
      },
      "source": [
        "model, callbacks_list = keras_model(28, 28)\n",
        "model.fit(x_train_norm, y_train, validation_data=(x_test_norm, y_test), epochs=2, batch_size=64,\n",
        "              callbacks=callbacks_list)"
      ],
      "execution_count": 0,
      "outputs": [
        {
          "output_type": "stream",
          "text": [
            "Train on 60000 samples, validate on 10000 samples\n",
            "Epoch 1/2\n",
            "60000/60000 [==============================] - 4s 71us/step - loss: 0.4815 - acc: 0.8516 - val_loss: 0.1509 - val_acc: 0.9556\n",
            "\n",
            "Epoch 00001: val_acc improved from -inf to 0.95560, saving model to pyData.h5\n",
            "Epoch 2/2\n",
            "60000/60000 [==============================] - 4s 63us/step - loss: 0.2433 - acc: 0.9302 - val_loss: 0.1228 - val_acc: 0.9640\n",
            "\n",
            "Epoch 00002: val_acc improved from 0.95560 to 0.96400, saving model to pyData.h5\n"
          ],
          "name": "stdout"
        },
        {
          "output_type": "execute_result",
          "data": {
            "text/plain": [
              "<keras.callbacks.History at 0x7f046c0540b8>"
            ]
          },
          "metadata": {
            "tags": []
          },
          "execution_count": 14
        }
      ]
    },
    {
      "cell_type": "code",
      "metadata": {
        "id": "JDfmd0kWajG_",
        "colab_type": "code",
        "colab": {}
      },
      "source": [
        "# Computer vision part\n",
        "import cv2\n",
        "\n",
        "loaded_model=load_model('pyData.h5')\n",
        "cap = cv2.VideoCapture(0)\n",
        "while (cap.isOpened()):\n",
        "        ret, img = cap.read()\n",
        "        img, contours, thresh = get_img_contour_thresh(img)\n",
        "        if len(contours) > 0:\n",
        "            contour = max(contours, key=cv2.contourArea)\n",
        "            if cv2.contourArea(contour) > 2500:\n",
        "                x, y, w, h = cv2.boundingRect(contour)\n",
        "                newImage = thresh[y:y + h, x:x + w]\n",
        "                newImage = cv2.resize(newImage, (28, 28))\n",
        "                newImage = np.array(newImage)\n",
        "                newImage = newImage.flatten()\n",
        "                newImage = newImage.reshape(newImage.shape[0], 1)\n",
        "                ans= loaded_model.predict(newImage)\n",
        "\n",
        "        x, y, w, h = 0, 0, 300, 300\n",
        "        cv2.rectangle(img, (x, y), (x + w, y + h), (0, 255, 0), 2)\n",
        "        cv2.putText(img, \"Prediction : \" + str(ans), (10, 320),\n",
        "                    cv2.FONT_HERSHEY_SIMPLEX, 0.7, (0, 0, 255), 2)\n",
        "        \n",
        "        cv2.imshow(\"Frame\", img)\n",
        "        cv2.imshow(\"Contours\", thresh)\n",
        "        k = cv2.waitKey(10)\n",
        "        if k == 27:\n",
        "            break\n",
        "\n",
        "\n",
        "def get_img_contour_thresh(img):\n",
        "    x, y, w, h = 0, 0, 300, 300\n",
        "    gray = cv2.cvtColor(img, cv2.COLOR_BGR2GRAY)\n",
        "    blur = cv2.GaussianBlur(gray, (35, 35), 0)\n",
        "    ret, thresh1 = cv2.threshold(blur, 70, 255, cv2.THRESH_BINARY_INV + cv2.THRESH_OTSU)\n",
        "    thresh1 = thresh1[y:y + h, x:x + w]\n",
        "    contours, hierarchy = cv2.findContours(thresh1, cv2.RETR_TREE, cv2.CHAIN_APPROX_SIMPLE)[-2:]\n",
        "    return img, contours, thresh1\n"
      ],
      "execution_count": 0,
      "outputs": []
    },
    {
      "cell_type": "code",
      "metadata": {
        "id": "WXEG0fj8D4tF",
        "colab_type": "code",
        "outputId": "56e53062-a643-4958-8c15-0a17bb8019a4",
        "colab": {
          "base_uri": "https://localhost:8080/",
          "height": 426
        }
      },
      "source": [
        "%%HTML\n",
        "<iframe width=\"700\" height=\"400\" src=\"https://www.youtube.com/embed/MRNODXrYK3Q\"></iframe>"
      ],
      "execution_count": 0,
      "outputs": [
        {
          "output_type": "display_data",
          "data": {
            "text/html": [
              "<iframe width=\"700\" height=\"400\" src=\"https://www.youtube.com/embed/MRNODXrYK3Q\"></iframe>"
            ],
            "text/plain": [
              "<IPython.core.display.HTML object>"
            ]
          },
          "metadata": {
            "tags": []
          }
        }
      ]
    },
    {
      "cell_type": "markdown",
      "metadata": {
        "id": "RGo4xnpXFyWS",
        "colab_type": "text"
      },
      "source": [
        "# Quick, Draw\n",
        "## Feeding data by writing on screen\n",
        "### For the initial steps, you can look here : https://www.akshaybahadur.com/post/quick-draw\n"
      ]
    },
    {
      "cell_type": "code",
      "metadata": {
        "id": "WDnGqbJxEvQ1",
        "colab_type": "code",
        "colab": {}
      },
      "source": [
        "from collections import deque\n",
        "\n",
        "cap = cv2.VideoCapture(0)\n",
        "Lower_blue = np.array([110, 50, 50])\n",
        "Upper_blue = np.array([130, 255, 255])\n",
        "pts = deque(maxlen=512)\n",
        "blackboard = np.zeros((480, 640, 3), dtype=np.uint8)\n",
        "digit = np.zeros((200, 200, 3), dtype=np.uint8)\n",
        "pred_class = 0\n",
        "\n",
        "model = load_model('QuickDraw.h5')\n",
        "\n",
        "\n",
        "while (cap.isOpened()):\n",
        "        ret, img = cap.read()\n",
        "        img = cv2.flip(img, 1)\n",
        "        hsv = cv2.cvtColor(img, cv2.COLOR_BGR2HSV)\n",
        "        kernel = np.ones((5, 5), np.uint8)\n",
        "        mask = cv2.inRange(hsv, Lower_green, Upper_green)\n",
        "        mask = cv2.erode(mask, kernel, iterations=2)\n",
        "        mask = cv2.morphologyEx(mask, cv2.MORPH_OPEN, kernel)\n",
        "        mask = cv2.dilate(mask, kernel, iterations=1)\n",
        "        res = cv2.bitwise_and(img, img, mask=mask)\n",
        "        cnts, heir = cv2.findContours(mask.copy(), cv2.RETR_EXTERNAL, cv2.CHAIN_APPROX_SIMPLE)[-2:]\n",
        "        center = None\n",
        "\n",
        "        if len(cnts) >= 1:\n",
        "            cnt = max(cnts, key=cv2.contourArea)\n",
        "            if cv2.contourArea(cnt) > 200:\n",
        "                ((x, y), radius) = cv2.minEnclosingCircle(cnt)\n",
        "                cv2.circle(img, (int(x), int(y)), int(radius), (0, 255, 255), 2)\n",
        "                cv2.circle(img, center, 5, (0, 0, 255), -1)\n",
        "                M = cv2.moments(cnt)\n",
        "                center = (int(M['m10'] / M['m00']), int(M['m01'] / M['m00']))\n",
        "                pts.appendleft(center)\n",
        "                for i in range(1, len(pts)):\n",
        "                    if pts[i - 1] is None or pts[i] is None:\n",
        "                        continue\n",
        "                    cv2.line(blackboard, pts[i - 1], pts[i], (255, 255, 255), 7)\n",
        "                    cv2.line(img, pts[i - 1], pts[i], (0, 0, 255), 2)\n",
        "        elif len(cnts) == 0:\n",
        "            if len(pts) != []:\n",
        "                blackboard_gray = cv2.cvtColor(blackboard, cv2.COLOR_BGR2GRAY)\n",
        "                blur1 = cv2.medianBlur(blackboard_gray, 15)\n",
        "                blur1 = cv2.GaussianBlur(blur1, (5, 5), 0)\n",
        "                thresh1 = cv2.threshold(blur1, 0, 255, cv2.THRESH_BINARY + cv2.THRESH_OTSU)[1]\n",
        "                blackboard_cnts = cv2.findContours(thresh1.copy(), cv2.RETR_TREE, cv2.CHAIN_APPROX_NONE)[1]\n",
        "                if len(blackboard_cnts) >= 1:\n",
        "                    cnt = max(blackboard_cnts, key=cv2.contourArea)\n",
        "                    print(cv2.contourArea(cnt))\n",
        "                    if cv2.contourArea(cnt) > 2000:\n",
        "                        x, y, w, h = cv2.boundingRect(cnt)\n",
        "                        digit = blackboard_gray[y:y + h, x:x + w]\n",
        "                        pred_probab, pred_class = keras_predict(model, digit)\n",
        "                        print(pred_class, pred_probab)\n",
        "\n",
        "            pts = deque(maxlen=512)\n",
        "            blackboard = np.zeros((480, 640, 3), dtype=np.uint8)\n",
        "            img = overlay(img, emojis[pred_class], 400, 250, 100, 100)\n",
        "        cv2.imshow(\"Frame\", img)\n",
        "        k = cv2.waitKey(10)\n",
        "        if k == 27:\n",
        "            break"
      ],
      "execution_count": 0,
      "outputs": []
    },
    {
      "cell_type": "code",
      "metadata": {
        "id": "Zzx0UwbhPGjb",
        "colab_type": "code",
        "outputId": "c544f8d3-a673-42c7-ae7a-6cb97aaa4ebe",
        "colab": {
          "base_uri": "https://localhost:8080/",
          "height": 426
        }
      },
      "source": [
        "%%HTML\n",
        "<iframe width=\"700\" height=\"400\" src=\"https://www.youtube.com/embed/X0qk4aEqg3o\"></iframe>"
      ],
      "execution_count": 0,
      "outputs": [
        {
          "output_type": "display_data",
          "data": {
            "text/html": [
              "<iframe width=\"700\" height=\"400\" src=\"https://www.youtube.com/embed/X0qk4aEqg3o\"></iframe>"
            ],
            "text/plain": [
              "<IPython.core.display.HTML object>"
            ]
          },
          "metadata": {
            "tags": []
          }
        }
      ]
    },
    {
      "cell_type": "code",
      "metadata": {
        "id": "oLQ8YbmTVUdo",
        "colab_type": "code",
        "outputId": "b32baded-18f1-4aa0-af2b-a169edcc628c",
        "colab": {
          "base_uri": "https://localhost:8080/",
          "height": 426
        }
      },
      "source": [
        "%%HTML\n",
        "<iframe width=\"700\" height=\"400\" src=\"https://www.youtube.com/embed/Qkpgv16-JRM\"></iframe>"
      ],
      "execution_count": 0,
      "outputs": [
        {
          "output_type": "display_data",
          "data": {
            "text/html": [
              "<iframe width=\"700\" height=\"400\" src=\"https://www.youtube.com/embed/Qkpgv16-JRM\"></iframe>"
            ],
            "text/plain": [
              "<IPython.core.display.HTML object>"
            ]
          },
          "metadata": {
            "tags": []
          }
        }
      ]
    },
    {
      "cell_type": "markdown",
      "metadata": {
        "id": "WUcEHIG6QO4e",
        "colab_type": "text"
      },
      "source": [
        "# Emojinator\n",
        "## Haptically feeding hand gestures\n",
        "### For more details, you can look here : https://github.com/akshaybahadur21/Emojinator"
      ]
    },
    {
      "cell_type": "code",
      "metadata": {
        "id": "_sU9rA5dPRie",
        "colab_type": "code",
        "colab": {}
      },
      "source": [
        "model = load_model('emojinator.h5')\n",
        "\n",
        "cap = cv2.VideoCapture(0)\n",
        "x, y, w, h = 300, 50, 350, 350\n",
        "\n",
        "while (cap.isOpened()):\n",
        "    ret, img = cap.read()\n",
        "    img = cv2.flip(img, 1)\n",
        "    hsv = cv2.cvtColor(img, cv2.COLOR_BGR2HSV)\n",
        "    mask2 = cv2.inRange(hsv, np.array([2, 50, 60]), np.array([25, 150, 255]))\n",
        "    res = cv2.bitwise_and(img, img, mask=mask2)\n",
        "    gray = cv2.cvtColor(res, cv2.COLOR_BGR2GRAY)\n",
        "    median = cv2.GaussianBlur(gray, (5, 5), 0)\n",
        "\n",
        "    kernel_square = np.ones((5, 5), np.uint8)\n",
        "    dilation = cv2.dilate(median, kernel_square, iterations=2)\n",
        "    opening = cv2.morphologyEx(dilation, cv2.MORPH_CLOSE, kernel_square)\n",
        "    ret, thresh = cv2.threshold(opening, 30, 255, cv2.THRESH_BINARY)\n",
        "\n",
        "    thresh = thresh[y:y + h, x:x + w]\n",
        "    contours = cv2.findContours(thresh.copy(), cv2.RETR_TREE, cv2.CHAIN_APPROX_NONE)[1]\n",
        "    if len(contours) > 0:\n",
        "        contour = max(contours, key=cv2.contourArea)\n",
        "        if cv2.contourArea(contour) > 2500:\n",
        "            x, y, w1, h1 = cv2.boundingRect(contour)\n",
        "            newImage = thresh[y:y + h1, x:x + w1]\n",
        "            newImage = cv2.resize(newImage, (50, 50))\n",
        "            pred_probab, pred_class = keras_predict(model, newImage)\n",
        "            print(pred_class, pred_probab)\n",
        "            img = overlay(img, emojis[pred_class], 400, 250, 90, 90)\n",
        "\n",
        "    x, y, w, h = 300, 50, 350, 350\n",
        "    cv2.imshow(\"Frame\", img)\n",
        "    cv2.imshow(\"Contours\", thresh)\n",
        "    k = cv2.waitKey(10)\n",
        "    if k == 27:\n",
        "      break"
      ],
      "execution_count": 0,
      "outputs": []
    },
    {
      "cell_type": "code",
      "metadata": {
        "id": "hYhwe1-oRvl6",
        "colab_type": "code",
        "outputId": "9dca9a44-35d4-4cb0-a9a1-54122ecfb2ef",
        "colab": {
          "base_uri": "https://localhost:8080/",
          "height": 426
        }
      },
      "source": [
        "%%HTML\n",
        "<iframe width=\"700\" height=\"400\" src=\"https://www.youtube.com/embed/1eor41gIbF8\"></iframe>"
      ],
      "execution_count": 0,
      "outputs": [
        {
          "output_type": "display_data",
          "data": {
            "text/html": [
              "<iframe width=\"700\" height=\"400\" src=\"https://www.youtube.com/embed/1eor41gIbF8\"></iframe>"
            ],
            "text/plain": [
              "<IPython.core.display.HTML object>"
            ]
          },
          "metadata": {
            "tags": []
          }
        }
      ]
    },
    {
      "cell_type": "code",
      "metadata": {
        "id": "lzSSIKERSGtp",
        "colab_type": "code",
        "outputId": "76a98a5e-b298-4dd5-b531-0cc4cb9085f5",
        "colab": {
          "base_uri": "https://localhost:8080/",
          "height": 426
        }
      },
      "source": [
        "%%HTML\n",
        "<iframe width=\"700\" height=\"400\" src=\"https://www.youtube.com/embed/WFm23haaWTQ\"></iframe>"
      ],
      "execution_count": 0,
      "outputs": [
        {
          "output_type": "display_data",
          "data": {
            "text/html": [
              "<iframe width=\"700\" height=\"400\" src=\"https://www.youtube.com/embed/WFm23haaWTQ\"></iframe>"
            ],
            "text/plain": [
              "<IPython.core.display.HTML object>"
            ]
          },
          "metadata": {
            "tags": []
          }
        }
      ]
    },
    {
      "cell_type": "code",
      "metadata": {
        "id": "zvxcWO5pU9M3",
        "colab_type": "code",
        "outputId": "aae17fa6-577b-4234-c586-6cc967af2659",
        "colab": {
          "base_uri": "https://localhost:8080/",
          "height": 426
        }
      },
      "source": [
        "%%HTML\n",
        "<iframe width=\"700\" height=\"400\" src=\"https://www.youtube.com/embed/Ujl8L4QoHHU\"></iframe>"
      ],
      "execution_count": 0,
      "outputs": [
        {
          "output_type": "display_data",
          "data": {
            "text/html": [
              "<iframe width=\"700\" height=\"400\" src=\"https://www.youtube.com/embed/Ujl8L4QoHHU\"></iframe>"
            ],
            "text/plain": [
              "<IPython.core.display.HTML object>"
            ]
          },
          "metadata": {
            "tags": []
          }
        }
      ]
    },
    {
      "cell_type": "markdown",
      "metadata": {
        "id": "fDd75ij6SrK8",
        "colab_type": "text"
      },
      "source": [
        "# Drowsiness Detection\n",
        "\n",
        "## Feeding Eye aspect ratio for detection"
      ]
    },
    {
      "cell_type": "code",
      "metadata": {
        "id": "B_RgaVLkTMMs",
        "colab_type": "code",
        "colab": {}
      },
      "source": [
        "\n",
        "def eye_aspect_ratio(eye):\n",
        "\tA = distance.euclidean(eye[1], eye[5])\n",
        "\tB = distance.euclidean(eye[2], eye[4])\n",
        "\tC = distance.euclidean(eye[0], eye[3])\n",
        "\tear = (A + B) / (2.0 * C)\n",
        "\treturn ear\n",
        "\t\n",
        "thresh = 0.25\n",
        "frame_check = 20\n",
        "detect = dlib.get_frontal_face_detector()\n",
        "predict = dlib.shape_predictor(\"E:\\Github projects\\Drowsiness_Detection_fork\\shape_predictor_68_face_landmarks.dat\")# Dat file is the crux of the code\n",
        "\n",
        "(lStart, lEnd) = face_utils.FACIAL_LANDMARKS_68_IDXS[\"left_eye\"]\n",
        "(rStart, rEnd) = face_utils.FACIAL_LANDMARKS_68_IDXS[\"right_eye\"]\n",
        "cap=cv2.VideoCapture(0)\n",
        "flag=0\n",
        "while True:\n",
        "\tret, frame=cap.read()\n",
        "\tframe = imutils.resize(frame, width=450)\n",
        "\tgray = cv2.cvtColor(frame, cv2.COLOR_BGR2GRAY)\n",
        "\tsubjects = detect(gray, 0)\n",
        "\tfor subject in subjects:\n",
        "\t\tshape = predict(gray, subject)\n",
        "\t\tshape = face_utils.shape_to_np(shape)#converting to NumPy Array\n",
        "\t\tleftEye = shape[lStart:lEnd]\n",
        "\t\trightEye = shape[rStart:rEnd]\n",
        "\t\tleftEAR = eye_aspect_ratio(leftEye)\n",
        "\t\trightEAR = eye_aspect_ratio(rightEye)\n",
        "\t\tear = (leftEAR + rightEAR) / 2.0\n",
        "\t\tleftEyeHull = cv2.convexHull(leftEye)\n",
        "\t\trightEyeHull = cv2.convexHull(rightEye)\n",
        "\t\tcv2.drawContours(frame, [leftEyeHull], -1, (0, 255, 0), 1)\n",
        "\t\tcv2.drawContours(frame, [rightEyeHull], -1, (0, 255, 0), 1)\n",
        "\t\tif ear < thresh:\n",
        "\t\t\tflag += 1\n",
        "\t\t\tprint (flag)\n",
        "\t\t\tif flag >= frame_check:\n",
        "\t\t\t\tcv2.putText(frame, \"****************ALERT!****************\", (10, 30),\n",
        "\t\t\t\t\tcv2.FONT_HERSHEY_SIMPLEX, 0.7, (0, 0, 255), 2)\n",
        "\t\t\t\tcv2.putText(frame, \"****************ALERT!****************\", (10,325),\n",
        "\t\t\t\t\tcv2.FONT_HERSHEY_SIMPLEX, 0.7, (0, 0, 255), 2)\n",
        "\t\t\t\t#print (\"Drowsy\")\n",
        "\t\telse:\n",
        "\t\t\tflag = 0\n",
        "\tcv2.imshow(\"Frame\", frame)\n",
        "\tkey = cv2.waitKey(1) & 0xFF\n",
        "\tif key == ord(\"q\"):\n",
        "break"
      ],
      "execution_count": 0,
      "outputs": []
    },
    {
      "cell_type": "code",
      "metadata": {
        "id": "-PALmjFCSLN4",
        "colab_type": "code",
        "outputId": "9414e466-e306-45b4-c28a-fa5e22958c67",
        "colab": {
          "base_uri": "https://localhost:8080/",
          "height": 426
        }
      },
      "source": [
        "%%HTML\n",
        "<iframe width=\"700\" height=\"400\" src=\"https://www.youtube.com/embed/twmHZE20rRY\"></iframe>"
      ],
      "execution_count": 0,
      "outputs": [
        {
          "output_type": "display_data",
          "data": {
            "text/html": [
              "<iframe width=\"700\" height=\"400\" src=\"https://www.youtube.com/embed/twmHZE20rRY\"></iframe>"
            ],
            "text/plain": [
              "<IPython.core.display.HTML object>"
            ]
          },
          "metadata": {
            "tags": []
          }
        }
      ]
    },
    {
      "cell_type": "code",
      "metadata": {
        "id": "quZjhCWfTK_b",
        "colab_type": "code",
        "outputId": "b5e88a7f-f6e6-4163-ae80-9a81d41b55a5",
        "colab": {
          "base_uri": "https://localhost:8080/",
          "height": 426
        }
      },
      "source": [
        "%%HTML\n",
        "<iframe width=\"700\" height=\"400\" src=\"https://www.youtube.com/embed/eFQvKHdjeEw\"></iframe>"
      ],
      "execution_count": 0,
      "outputs": [
        {
          "output_type": "display_data",
          "data": {
            "text/html": [
              "<iframe width=\"700\" height=\"400\" src=\"https://www.youtube.com/embed/eFQvKHdjeEw\"></iframe>"
            ],
            "text/plain": [
              "<IPython.core.display.HTML object>"
            ]
          },
          "metadata": {
            "tags": []
          }
        }
      ]
    },
    {
      "cell_type": "markdown",
      "metadata": {
        "id": "DVexLdv3UwT9",
        "colab_type": "text"
      },
      "source": [
        "# Facial Recognition using FaceNets\n",
        "### For detailed code : https://github.com/akshaybahadur21/Facial-Recognition-using-Facenet"
      ]
    },
    {
      "cell_type": "code",
      "metadata": {
        "id": "qWYyudHBYKwp",
        "colab_type": "code",
        "colab": {}
      },
      "source": [
        "def recognize_face(face_descriptor, database):\n",
        "    encoding = img_to_encoding(face_descriptor, FRmodel)\n",
        "    min_dist = 100\n",
        "    identity = None\n",
        "\n",
        "    # Loop over the database dictionary's names and encodings.\n",
        "    for (name, db_enc) in database.items():\n",
        "\n",
        "        # Compute L2 distance between the target \"encoding\" and the current \"emb\" from the database.\n",
        "        dist = np.linalg.norm(db_enc - encoding)\n",
        "\n",
        "        print('distance for %s is %s' % (name, dist))\n",
        "\n",
        "        # If this distance is less than the min_dist, then set min_dist to dist, and identity to name\n",
        "        if dist < min_dist:\n",
        "            min_dist = dist\n",
        "            identity = name\n",
        "\n",
        "    if int(identity) <=4:\n",
        "        return str('Akshay'), min_dist\n",
        "    if int(identity) <=8:\n",
        "        return str('Apoorva'), min_dist\n",
        "      \n",
        "def img_to_encoding(image, model):\n",
        "    image = cv2.resize(image, (96, 96)) \n",
        "    img = image[...,::-1]\n",
        "    img = np.around(np.transpose(img, (2,0,1))/255.0, decimals=12)\n",
        "    x_train = np.array([img])\n",
        "    embedding = model.predict(x_train)\n",
        "    return embedding"
      ],
      "execution_count": 0,
      "outputs": []
    },
    {
      "cell_type": "code",
      "metadata": {
        "id": "pin_fd1WT_Au",
        "colab_type": "code",
        "outputId": "4d220f01-b036-4c59-c223-fd387c018be7",
        "colab": {
          "base_uri": "https://localhost:8080/",
          "height": 426
        }
      },
      "source": [
        "%%HTML\n",
        "<iframe width=\"700\" height=\"400\" src=\"https://www.youtube.com/embed/v2dPVx9qCEo\"></iframe>"
      ],
      "execution_count": 0,
      "outputs": [
        {
          "output_type": "display_data",
          "data": {
            "text/html": [
              "<iframe width=\"700\" height=\"400\" src=\"https://www.youtube.com/embed/v2dPVx9qCEo\"></iframe>"
            ],
            "text/plain": [
              "<IPython.core.display.HTML object>"
            ]
          },
          "metadata": {
            "tags": []
          }
        }
      ]
    },
    {
      "cell_type": "markdown",
      "metadata": {
        "id": "uuPVRH0wueLF",
        "colab_type": "text"
      },
      "source": [
        "# Open Pose"
      ]
    },
    {
      "cell_type": "code",
      "metadata": {
        "id": "48EQlmlNVdlt",
        "colab_type": "code",
        "outputId": "eace9bef-b560-4f33-f069-f46d25936d8d",
        "colab": {
          "base_uri": "https://localhost:8080/",
          "height": 426
        }
      },
      "source": [
        "%%HTML\n",
        "<iframe width=\"700\" height=\"400\" src=\"https://www.youtube.com/embed/C1Sxk6zxWLM\"></iframe>"
      ],
      "execution_count": 0,
      "outputs": [
        {
          "output_type": "display_data",
          "data": {
            "text/html": [
              "<iframe width=\"700\" height=\"400\" src=\"https://www.youtube.com/embed/C1Sxk6zxWLM\"></iframe>"
            ],
            "text/plain": [
              "<IPython.core.display.HTML object>"
            ]
          },
          "metadata": {
            "tags": []
          }
        }
      ]
    },
    {
      "cell_type": "code",
      "metadata": {
        "id": "RK0Lk_-lujxa",
        "colab_type": "code",
        "colab": {
          "base_uri": "https://localhost:8080/",
          "height": 425
        },
        "outputId": "eaab1421-076f-47bd-f9b3-4030986aaeb5"
      },
      "source": [
        "%%HTML\n",
        "<iframe width=\"700\" height=\"400\" src=\"https://www.youtube.com/embed/xyiLxIMDiAY\"></iframe>"
      ],
      "execution_count": 1,
      "outputs": [
        {
          "output_type": "display_data",
          "data": {
            "text/html": [
              "<iframe width=\"700\" height=\"400\" src=\"https://www.youtube.com/embed/xyiLxIMDiAY\"></iframe>"
            ],
            "text/plain": [
              "<IPython.core.display.HTML object>"
            ]
          },
          "metadata": {
            "tags": []
          }
        }
      ]
    },
    {
      "cell_type": "code",
      "metadata": {
        "id": "R32-ZmXo2F1X",
        "colab_type": "code",
        "colab": {}
      },
      "source": [
        ""
      ],
      "execution_count": 0,
      "outputs": []
    }
  ]
}